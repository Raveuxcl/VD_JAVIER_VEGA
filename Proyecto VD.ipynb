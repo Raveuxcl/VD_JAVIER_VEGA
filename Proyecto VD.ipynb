{
 "cells": [
  {
   "cell_type": "code",
   "execution_count": 1,
   "id": "10efeb2a",
   "metadata": {},
   "outputs": [
    {
     "ename": "ModuleNotFoundError",
     "evalue": "No module named 'geopandas'",
     "output_type": "error",
     "traceback": [
      "\u001b[1;31m---------------------------------------------------------------------------\u001b[0m",
      "\u001b[1;31mModuleNotFoundError\u001b[0m                       Traceback (most recent call last)",
      "Input \u001b[1;32mIn [1]\u001b[0m, in \u001b[0;36m<cell line: 6>\u001b[1;34m()\u001b[0m\n\u001b[0;32m      4\u001b[0m \u001b[38;5;28;01mimport\u001b[39;00m \u001b[38;5;21;01mseaborn\u001b[39;00m \u001b[38;5;28;01mas\u001b[39;00m \u001b[38;5;21;01msns\u001b[39;00m\n\u001b[0;32m      5\u001b[0m \u001b[38;5;28;01mimport\u001b[39;00m \u001b[38;5;21;01mnumpy\u001b[39;00m \u001b[38;5;28;01mas\u001b[39;00m \u001b[38;5;21;01mnp\u001b[39;00m\n\u001b[1;32m----> 6\u001b[0m \u001b[38;5;28;01mimport\u001b[39;00m \u001b[38;5;21;01mgeopandas\u001b[39;00m\n",
      "\u001b[1;31mModuleNotFoundError\u001b[0m: No module named 'geopandas'"
     ]
    }
   ],
   "source": [
    "import pandas as pd\n",
    "import matplotlib as mpl\n",
    "import matplotlib.pyplot as plt\n",
    "import seaborn as sns\n",
    "import numpy as np\n",
    "import geopandas\n"
   ]
  },
  {
   "cell_type": "code",
   "execution_count": null,
   "id": "33359a25",
   "metadata": {},
   "outputs": [],
   "source": [
    "df_cor=pd.read_excel ('C:/Users/javie/Universidad/Trimestre 2/Visualización de datos/Proyecto Visualización/Raw-Uptime/Coordenadas Sitios Moviles.xlsx','ALL')\n",
    "df_cor.head(15)"
   ]
  },
  {
   "cell_type": "code",
   "execution_count": null,
   "id": "50d98e1e",
   "metadata": {},
   "outputs": [],
   "source": [
    "df_upt=pd.read_csv ('C:/Users/javie/Universidad/Trimestre 2/Visualización de datos/Proyecto Visualización/Raw-Uptime/raw.uptime.2022.csv',sep=\",\")\n",
    "df_upt.head(15)\n"
   ]
  },
  {
   "cell_type": "code",
   "execution_count": null,
   "id": "02080c1e",
   "metadata": {},
   "outputs": [],
   "source": [
    "df_upco = pd.merge(df_upt, df_cor, on='sitio')\n",
    "df_upco.head(15)"
   ]
  },
  {
   "cell_type": "code",
   "execution_count": null,
   "id": "c7bc9629",
   "metadata": {},
   "outputs": [],
   "source": [
    "df_upco=df_upco.drop(['Celda','TEC','Vendor/RNC'], axis=1)\n",
    "df_upco.head(15)"
   ]
  },
  {
   "cell_type": "code",
   "execution_count": null,
   "id": "287b0efe",
   "metadata": {},
   "outputs": [],
   "source": [
    "gdf = geopandas.GeoDataFrame(\n",
    "    df, geometry=geopandas.points_from_xy(df.Longitude, df.Latitude))"
   ]
  },
  {
   "cell_type": "code",
   "execution_count": null,
   "id": "46a89b05",
   "metadata": {},
   "outputs": [],
   "source": [
    "pip install geopandas"
   ]
  },
  {
   "cell_type": "code",
   "execution_count": null,
   "id": "2308d41e",
   "metadata": {},
   "outputs": [],
   "source": []
  }
 ],
 "metadata": {
  "kernelspec": {
   "display_name": "Python 3 (ipykernel)",
   "language": "python",
   "name": "python3"
  },
  "language_info": {
   "codemirror_mode": {
    "name": "ipython",
    "version": 3
   },
   "file_extension": ".py",
   "mimetype": "text/x-python",
   "name": "python",
   "nbconvert_exporter": "python",
   "pygments_lexer": "ipython3",
   "version": "3.9.12"
  }
 },
 "nbformat": 4,
 "nbformat_minor": 5
}
